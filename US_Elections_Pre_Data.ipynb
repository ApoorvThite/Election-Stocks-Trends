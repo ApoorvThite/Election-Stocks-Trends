{
  "nbformat": 4,
  "nbformat_minor": 0,
  "metadata": {
    "colab": {
      "provenance": []
    },
    "kernelspec": {
      "name": "python3",
      "display_name": "Python 3"
    },
    "language_info": {
      "name": "python"
    }
  },
  "cells": [
    {
      "cell_type": "code",
      "execution_count": 1,
      "metadata": {
        "id": "-yZu-_j0PFzh"
      },
      "outputs": [],
      "source": [
        "import math\n",
        "import yfinance as yf\n",
        "import pandas_datareader as web\n",
        "import numpy as np\n",
        "import pandas as pd\n",
        "from sklearn.preprocessing import MinMaxScaler\n",
        "import matplotlib.pyplot as plt\n",
        "plt.style.use('fivethirtyeight')"
      ]
    },
    {
      "cell_type": "code",
      "source": [
        "# Top 5 companies in each sector by stock symbol (as of 2000)\n",
        "\n",
        "top_companies_2000 = {\n",
        "    \"Information Technology\": [\"IBM\", \"MSFT\", \"INTC\", \"ORCL\", \"CSCO\"],\n",
        "    \"Health Care\": [\"JNJ\", \"PFE\", \"MRK\", \"ABT\", \"LLY\"],\n",
        "    \"Financials\": [\"JPM\", \"BAC\", \"C\", \"WFC\", \"AXP\"],\n",
        "    \"Consumer Discretionary\": [\"F\", \"NKE\", \"HD\", \"MCD\", \"DIS\"],\n",
        "    \"Communication Services\": [\"T\", \"VZ\", \"BLS\", \"CMCSA\", \"EA\"],\n",
        "    \"Consumer Staples\": [\"PG\", \"KO\", \"PEP\", \"MO\", \"CL\"],\n",
        "    \"Energy\": [\"XOM\", \"CVX\", \"COP\", \"HAL\", \"SLB\"],\n",
        "    \"Industrials\": [\"GE\", \"BA\", \"MMM\", \"HON\", \"CAT\"],\n",
        "    \"Materials\": [\"PPG\", \"DD\", \"AA\", \"IP\", \"NEM\"],\n",
        "    \"Real Estate\": [\"SPG\", \"PSA\", \"EQR\", \"VNO\", \"BXP\"],\n",
        "    \"Utilities\": [\"DUK\", \"SO\", \"EXC\", \"ED\", \"AEP\"]\n",
        "}\n",
        "\n",
        "# Flatten the list of symbols\n",
        "all_symbols = [symbol for sector in top_companies_2000.values() for symbol in sector]\n",
        "\n",
        "# Define the date range\n",
        "start_date = \"2000-05-07\"\n",
        "end_date = \"2000-11-07\"\n",
        "\n",
        "# Download the data and store it in a DataFrame\n",
        "data = yf.download(all_symbols, start=start_date, end=end_date, group_by='ticker')"
      ],
      "metadata": {
        "colab": {
          "base_uri": "https://localhost:8080/"
        },
        "id": "TtTy4D79PN7I",
        "outputId": "a52cf7ed-b611-4b11-fd2a-439a51b166b8"
      },
      "execution_count": 7,
      "outputs": [
        {
          "output_type": "stream",
          "name": "stderr",
          "text": [
            "[*********************100%***********************]  55 of 55 completed\n"
          ]
        }
      ]
    },
    {
      "cell_type": "code",
      "source": [
        "stock_2000 = pd.concat([data[symbol].assign(Symbol=symbol) for symbol in all_symbols], axis=0)\n",
        "stock_2000.to_csv('stock_2000.csv')"
      ],
      "metadata": {
        "id": "EB7TtDneQ17h"
      },
      "execution_count": 8,
      "outputs": []
    },
    {
      "cell_type": "code",
      "source": [
        "print(stock_2000.head())"
      ],
      "metadata": {
        "colab": {
          "base_uri": "https://localhost:8080/"
        },
        "id": "qbRQg4foQ5ho",
        "outputId": "7bd5edf1-6aa3-475d-c7d1-d53aea156e61"
      },
      "execution_count": 9,
      "outputs": [
        {
          "output_type": "stream",
          "name": "stdout",
          "text": [
            "Price                            Open        High         Low       Close  \\\n",
            "Date                                                                        \n",
            "2000-05-08 00:00:00+00:00  103.310226  105.521034  102.891968  104.923515   \n",
            "2000-05-09 00:00:00+00:00  105.640533  105.760040  103.489487  104.206497   \n",
            "2000-05-10 00:00:00+00:00  100.860420  101.039673   97.574089   98.470360   \n",
            "2000-05-11 00:00:00+00:00   99.426384  102.772469   98.649620   99.844643   \n",
            "2000-05-12 00:00:00+00:00   99.187378  101.099426   98.709366   99.844643   \n",
            "\n",
            "Price                      Adj Close    Volume Symbol  \n",
            "Date                                                   \n",
            "2000-05-08 00:00:00+00:00  56.289772   5048937    IBM  \n",
            "2000-05-09 00:00:00+00:00  55.905148   5088685    IBM  \n",
            "2000-05-10 00:00:00+00:00  52.827805  10473284    IBM  \n",
            "2000-05-11 00:00:00+00:00  53.565060   8479085    IBM  \n",
            "2000-05-12 00:00:00+00:00  53.565060   5857286    IBM  \n"
          ]
        }
      ]
    },
    {
      "cell_type": "code",
      "source": [
        "top_companies_2004 = {\n",
        "    \"Information Technology\": [\"MSFT\", \"INTC\", \"CSCO\", \"ORCL\", \"IBM\"],\n",
        "    \"Health Care\": [\"JNJ\", \"PFE\", \"MRK\", \"ABT\", \"LLY\"],\n",
        "    \"Financials\": [\"JPM\", \"BAC\", \"C\", \"WFC\", \"AXP\"],\n",
        "    \"Consumer Discretionary\": [\"F\", \"NKE\", \"HD\", \"MCD\", \"DIS\"],\n",
        "    \"Communication Services\": [\"T\", \"VZ\", \"CMCSA\", \"BLS\", \"EA\"],\n",
        "    \"Consumer Staples\": [\"PG\", \"KO\", \"PEP\", \"MO\", \"CL\"],\n",
        "    \"Energy\": [\"XOM\", \"CVX\", \"COP\", \"HAL\", \"SLB\"],\n",
        "    \"Industrials\": [\"GE\", \"BA\", \"MMM\", \"CAT\", \"HON\"],\n",
        "    \"Materials\": [\"PPG\", \"DD\", \"AA\", \"IP\", \"NEM\"],\n",
        "    \"Real Estate\": [\"SPG\", \"EQR\", \"AMT\", \"VNO\", \"BXP\"],\n",
        "    \"Utilities\": [\"DUK\", \"SO\", \"EXC\", \"D\", \"AEP\"]\n",
        "}\n",
        "\n",
        "# Flatten the list of symbols\n",
        "all_symbols2 = [symbol for sector in top_companies_2004.values() for symbol in sector]\n",
        "\n",
        "# Define the date range\n",
        "start_date = \"2004-05-02\"\n",
        "end_date = \"2004-11-02\"\n",
        "\n",
        "# Download the data and store it in a DataFrame\n",
        "data2004 = yf.download(all_symbols2, start=start_date, end=end_date, group_by='ticker')"
      ],
      "metadata": {
        "colab": {
          "base_uri": "https://localhost:8080/"
        },
        "id": "T_-Bg9OWRejd",
        "outputId": "bc63bea4-628f-4a09-9c42-0139a2a1f98a"
      },
      "execution_count": 12,
      "outputs": [
        {
          "output_type": "stream",
          "name": "stderr",
          "text": [
            "[*********************100%***********************]  55 of 55 completed\n"
          ]
        }
      ]
    },
    {
      "cell_type": "code",
      "source": [
        "# Combine the data into a single DataFrame with ticker as a new column\n",
        "stock_2004 = pd.concat([data2004[symbol].assign(Symbol=symbol) for symbol in all_symbols2], axis=0)\n",
        "\n",
        "# Save to CSV\n",
        "stock_2004.to_csv(\"stock_2004.csv\")"
      ],
      "metadata": {
        "id": "OGeJacrRT33J"
      },
      "execution_count": 17,
      "outputs": []
    },
    {
      "cell_type": "code",
      "source": [
        "print(stock_2004.head())"
      ],
      "metadata": {
        "colab": {
          "base_uri": "https://localhost:8080/"
        },
        "id": "bPvi9KgrRnxc",
        "outputId": "3f34f4f7-2e08-4f6a-b46f-60a9e8bf2030"
      },
      "execution_count": 18,
      "outputs": [
        {
          "output_type": "stream",
          "name": "stdout",
          "text": [
            "Price                           Open       High        Low      Close  \\\n",
            "Date                                                                    \n",
            "2004-05-03 00:00:00+00:00  26.190001  26.520000  26.190001  26.350000   \n",
            "2004-05-04 00:00:00+00:00  26.350000  26.540001  26.020000  26.330000   \n",
            "2004-05-05 00:00:00+00:00  26.320000  26.600000  26.250000  26.299999   \n",
            "2004-05-06 00:00:00+00:00  26.160000  26.340000  26.030001  26.120001   \n",
            "2004-05-07 00:00:00+00:00  26.030001  26.379999  25.750000  25.780001   \n",
            "\n",
            "Price                      Adj Close    Volume Symbol  \n",
            "Date                                                   \n",
            "2004-05-03 00:00:00+00:00  16.390930  65916200   MSFT  \n",
            "2004-05-04 00:00:00+00:00  16.378490  55496400   MSFT  \n",
            "2004-05-05 00:00:00+00:00  16.359835  51841700   MSFT  \n",
            "2004-05-06 00:00:00+00:00  16.247864  62693900   MSFT  \n",
            "2004-05-07 00:00:00+00:00  16.036366  68290200   MSFT  \n"
          ]
        }
      ]
    },
    {
      "cell_type": "code",
      "source": [
        "top_companies_2008 = {\n",
        "    \"Information Technology\": [\"MSFT\", \"INTC\", \"CSCO\", \"ORCL\", \"IBM\"],\n",
        "    \"Health Care\": [\"JNJ\", \"PFE\", \"MRK\", \"ABT\", \"LLY\"],\n",
        "    \"Financials\": [\"JPM\", \"BAC\", \"C\", \"WFC\", \"AXP\"],\n",
        "    \"Consumer Discretionary\": [\"F\", \"NKE\", \"HD\", \"MCD\", \"DIS\"],\n",
        "    \"Communication Services\": [\"T\", \"VZ\", \"CMCSA\", \"BLS\", \"EA\"],\n",
        "    \"Consumer Staples\": [\"PG\", \"KO\", \"PEP\", \"MO\", \"CL\"],\n",
        "    \"Energy\": [\"XOM\", \"CVX\", \"COP\", \"HAL\", \"SLB\"],\n",
        "    \"Industrials\": [\"GE\", \"BA\", \"MMM\", \"CAT\", \"HON\"],\n",
        "    \"Materials\": [\"PPG\", \"DD\", \"AA\", \"IP\", \"NEM\"],\n",
        "    \"Real Estate\": [\"SPG\", \"EQR\", \"AMT\", \"VNO\", \"BXP\"],\n",
        "    \"Utilities\": [\"DUK\", \"SO\", \"EXC\", \"D\", \"AEP\"]\n",
        "}\n",
        "\n",
        "# Flatten the list of symbols\n",
        "all_symbols3 = [symbol for sector in top_companies_2008.values() for symbol in sector]\n",
        "\n",
        "# Define the date range\n",
        "start_date = \"2008-05-04\"\n",
        "end_date = \"2008-11-04\"\n",
        "\n",
        "# Download the data and store it in a DataFrame\n",
        "data2008 = yf.download(all_symbols3, start=start_date, end=end_date, group_by='ticker')"
      ],
      "metadata": {
        "colab": {
          "base_uri": "https://localhost:8080/"
        },
        "id": "QEBQAphCSV8X",
        "outputId": "6718ecb6-2a38-4a78-9ac5-3ccdcba72845"
      },
      "execution_count": 22,
      "outputs": [
        {
          "output_type": "stream",
          "name": "stderr",
          "text": [
            "[*********************100%***********************]  55 of 55 completed\n"
          ]
        }
      ]
    },
    {
      "cell_type": "code",
      "source": [
        "# Combine the data into a single DataFrame with ticker as a new column\n",
        "stock_2008 = pd.concat([data2008[symbol].assign(Symbol=symbol) for symbol in all_symbols3], axis=0)\n",
        "\n",
        "# Save to CSV\n",
        "stock_2008.to_csv(\"stock_2008.csv\")"
      ],
      "metadata": {
        "id": "VXzGSXJwTaXJ"
      },
      "execution_count": 30,
      "outputs": []
    },
    {
      "cell_type": "code",
      "source": [
        "print(stock_2008.head())"
      ],
      "metadata": {
        "colab": {
          "base_uri": "https://localhost:8080/"
        },
        "id": "09lyWO-eT-N3",
        "outputId": "e253b032-caf0-40f7-bcf7-48a47eb793d9"
      },
      "execution_count": 31,
      "outputs": [
        {
          "output_type": "stream",
          "name": "stdout",
          "text": [
            "Price                           Open       High        Low      Close  \\\n",
            "Date                                                                    \n",
            "2008-05-05 00:00:00+00:00  29.930000  30.230000  28.990000  29.080000   \n",
            "2008-05-06 00:00:00+00:00  29.000000  29.860001  28.930000  29.700001   \n",
            "2008-05-07 00:00:00+00:00  29.690001  30.139999  29.080000  29.209999   \n",
            "2008-05-08 00:00:00+00:00  29.280001  29.389999  29.000000  29.270000   \n",
            "2008-05-09 00:00:00+00:00  29.209999  29.549999  28.950001  29.389999   \n",
            "\n",
            "Price                      Adj Close     Volume Symbol  \n",
            "Date                                                    \n",
            "2008-05-05 00:00:00+00:00  21.127420  119687700   MSFT  \n",
            "2008-05-06 00:00:00+00:00  21.577864   93582000   MSFT  \n",
            "2008-05-07 00:00:00+00:00  21.221876   88775000   MSFT  \n",
            "2008-05-08 00:00:00+00:00  21.265467   69589900   MSFT  \n",
            "2008-05-09 00:00:00+00:00  21.352640   51621200   MSFT  \n"
          ]
        }
      ]
    },
    {
      "cell_type": "code",
      "source": [
        "top_companies_2012 = {\n",
        "    \"Information Technology\": [\"AAPL\", \"MSFT\", \"IBM\", \"GOOGL\", \"INTC\"],\n",
        "    \"Health Care\": [\"JNJ\", \"PFE\", \"MRK\", \"ABT\", \"UNH\"],\n",
        "    \"Financials\": [\"JPM\", \"BAC\", \"C\", \"WFC\", \"GS\"],\n",
        "    \"Consumer Discretionary\": [\"AMZN\", \"HD\", \"MCD\", \"DIS\", \"NKE\"],\n",
        "    \"Communication Services\": [\"T\", \"VZ\", \"GOOG\", \"CMCSA\", \"TWX\"],\n",
        "    \"Consumer Staples\": [\"PG\", \"KO\", \"PEP\", \"MO\", \"WMT\"],\n",
        "    \"Energy\": [\"XOM\", \"CVX\", \"COP\", \"SLB\", \"HAL\"],\n",
        "    \"Industrials\": [\"GE\", \"BA\", \"MMM\", \"CAT\", \"HON\"],\n",
        "    \"Materials\": [\"PPG\", \"DD\", \"FCX\", \"IP\", \"NEM\"],\n",
        "    \"Real Estate\": [\"SPG\", \"PLD\", \"EQR\", \"AVB\", \"VNO\"],\n",
        "    \"Utilities\": [\"DUK\", \"SO\", \"EXC\", \"D\", \"AEP\"]\n",
        "}\n",
        "\n",
        "# Flatten the list of symbols\n",
        "all_symbols4 = [symbol for sector in top_companies_2012.values() for symbol in sector]\n",
        "\n",
        "# Define the date range\n",
        "start_date = \"2012-05-06\"\n",
        "end_date = \"2012-11-06\"\n",
        "\n",
        "# Download the data and store it in a DataFrame\n",
        "data2012 = yf.download(all_symbols4, start=start_date, end=end_date, group_by='ticker')"
      ],
      "metadata": {
        "colab": {
          "base_uri": "https://localhost:8080/"
        },
        "id": "7PDbcmseUiwJ",
        "outputId": "9fe96cd3-7049-4194-de3b-fb419fac7bae"
      },
      "execution_count": 35,
      "outputs": [
        {
          "output_type": "stream",
          "name": "stderr",
          "text": [
            "[*********************100%***********************]  55 of 55 completed\n"
          ]
        }
      ]
    },
    {
      "cell_type": "code",
      "source": [
        "# Combine the data into a single DataFrame with ticker as a new column\n",
        "stock_2012 = pd.concat([data2012[symbol].assign(Symbol=symbol) for symbol in all_symbols4], axis=0)\n",
        "\n",
        "# Save to CSV\n",
        "stock_2012.to_csv(\"stock_2012.csv\")"
      ],
      "metadata": {
        "id": "HEuZq7TeVkIR"
      },
      "execution_count": 36,
      "outputs": []
    },
    {
      "cell_type": "code",
      "source": [
        "print(stock_2012.head())"
      ],
      "metadata": {
        "colab": {
          "base_uri": "https://localhost:8080/"
        },
        "id": "LQmBAgiMv0AG",
        "outputId": "6ed037dd-bd4a-4473-9a37-fc456164d7b9"
      },
      "execution_count": 54,
      "outputs": [
        {
          "output_type": "stream",
          "name": "stdout",
          "text": [
            "Price                           Open       High        Low      Close  \\\n",
            "Date                                                                    \n",
            "2012-05-07 00:00:00+00:00  20.053572  20.456072  20.043928  20.338572   \n",
            "2012-05-08 00:00:00+00:00  20.342142  20.410713  19.954643  20.292143   \n",
            "2012-05-09 00:00:00+00:00  20.132143  20.499287  20.030357  20.327856   \n",
            "2012-05-10 00:00:00+00:00  20.520714  20.567142  20.301430  20.375713   \n",
            "2012-05-11 00:00:00+00:00  20.178572  20.516787  20.155357  20.239643   \n",
            "\n",
            "Price                      Adj Close     Volume Symbol  \n",
            "Date                                                    \n",
            "2012-05-07 00:00:00+00:00  17.156542  460118400   AAPL  \n",
            "2012-05-08 00:00:00+00:00  17.117378  497252000   AAPL  \n",
            "2012-05-09 00:00:00+00:00  17.147512  480704000   AAPL  \n",
            "2012-05-10 00:00:00+00:00  17.187872  333200000   AAPL  \n",
            "2012-05-11 00:00:00+00:00  17.073095  399546000   AAPL  \n"
          ]
        }
      ]
    },
    {
      "cell_type": "code",
      "source": [
        "top_companies_2016 = {\n",
        "    \"Information Technology\": [\"AAPL\", \"MSFT\", \"GOOGL\", \"INTC\", \"CSCO\"],\n",
        "    \"Health Care\": [\"JNJ\", \"PFE\", \"MRK\", \"UNH\", \"ABBV\"],\n",
        "    \"Financials\": [\"JPM\", \"BAC\", \"WFC\", \"C\", \"GS\"],\n",
        "    \"Consumer Discretionary\": [\"AMZN\", \"HD\", \"DIS\", \"MCD\", \"NKE\"],\n",
        "    \"Communication Services\": [\"T\", \"VZ\", \"GOOGL\", \"CMCSA\", \"TWX\"],\n",
        "    \"Consumer Staples\": [\"PG\", \"KO\", \"PEP\", \"WMT\", \"MO\"],\n",
        "    \"Energy\": [\"XOM\", \"CVX\", \"SLB\", \"COP\", \"PSX\"],\n",
        "    \"Industrials\": [\"GE\", \"BA\", \"MMM\", \"CAT\", \"HON\"],\n",
        "    \"Materials\": [\"PPG\", \"DD\", \"FCX\", \"IP\", \"APD\"],\n",
        "    \"Real Estate\": [\"SPG\", \"PLD\", \"EQR\", \"AVB\", \"PSA\"],\n",
        "    \"Utilities\": [\"DUK\", \"SO\", \"EXC\", \"D\", \"NEE\"]\n",
        "}\n",
        "\n",
        "# Flatten the list of symbols\n",
        "all_symbols5 = [symbol for sector in top_companies_2016.values() for symbol in sector]\n",
        "\n",
        "# Define the date range\n",
        "start_date = \"2016-05-08\"\n",
        "end_date = \"2016-11-08\"\n",
        "\n",
        "# Download the data and store it in a DataFrame\n",
        "data2016 = yf.download(all_symbols5, start=start_date, end=end_date, group_by='ticker')"
      ],
      "metadata": {
        "colab": {
          "base_uri": "https://localhost:8080/"
        },
        "id": "C2x3fiuRXCDL",
        "outputId": "372ce098-d6ce-42a0-ef0a-ebd65e28a850"
      },
      "execution_count": 39,
      "outputs": [
        {
          "output_type": "stream",
          "name": "stderr",
          "text": [
            "[*********************100%***********************]  54 of 54 completed\n"
          ]
        }
      ]
    },
    {
      "cell_type": "code",
      "source": [
        "# Combine the data into a single DataFrame with ticker as a new column\n",
        "stock_2016 = pd.concat([data2016[symbol].assign(Symbol=symbol) for symbol in all_symbols5], axis=0)\n",
        "\n",
        "# Save to CSV\n",
        "stock_2016.to_csv(\"stock_2016.csv\")"
      ],
      "metadata": {
        "id": "ecXnNbnZYGTA"
      },
      "execution_count": 40,
      "outputs": []
    },
    {
      "cell_type": "code",
      "source": [
        "print(stock_2016.head())"
      ],
      "metadata": {
        "colab": {
          "base_uri": "https://localhost:8080/"
        },
        "id": "L2uBIhwSv2dr",
        "outputId": "83fbc4fb-2b21-48b4-a09f-a1ca5c8a6e84"
      },
      "execution_count": 55,
      "outputs": [
        {
          "output_type": "stream",
          "name": "stdout",
          "text": [
            "Price                           Open       High        Low      Close  \\\n",
            "Date                                                                    \n",
            "2016-05-09 00:00:00+00:00  23.250000  23.442499  23.147499  23.197500   \n",
            "2016-05-10 00:00:00+00:00  23.332500  23.392500  23.027500  23.355000   \n",
            "2016-05-11 00:00:00+00:00  23.370001  23.392500  23.115000  23.127501   \n",
            "2016-05-12 00:00:00+00:00  23.180000  23.195000  22.367500  22.584999   \n",
            "2016-05-13 00:00:00+00:00  22.500000  22.917500  22.500000  22.629999   \n",
            "\n",
            "Price                      Adj Close     Volume Symbol  \n",
            "Date                                                    \n",
            "2016-05-09 00:00:00+00:00  21.258570  131745600   AAPL  \n",
            "2016-05-10 00:00:00+00:00  21.402908  134747200   AAPL  \n",
            "2016-05-11 00:00:00+00:00  21.194424  114876400   AAPL  \n",
            "2016-05-12 00:00:00+00:00  20.697254  305258800   AAPL  \n",
            "2016-05-13 00:00:00+00:00  20.738499  177571200   AAPL  \n"
          ]
        }
      ]
    },
    {
      "cell_type": "code",
      "source": [
        "top_companies_2020 = {\n",
        "    \"Information Technology\": [\"AAPL\", \"MSFT\", \"GOOGL\", \"NVDA\", \"ADBE\"],\n",
        "    \"Health Care\": [\"JNJ\", \"PFE\", \"UNH\", \"ABBV\", \"MRK\"],\n",
        "    \"Financials\": [\"JPM\", \"BAC\", \"WFC\", \"GS\", \"MS\"],\n",
        "    \"Consumer Discretionary\": [\"AMZN\", \"HD\", \"NKE\", \"MCD\", \"LOW\"],\n",
        "    \"Communication Services\": [\"GOOGL\", \"T\", \"VZ\", \"CMCSA\", \"DIS\"],\n",
        "    \"Consumer Staples\": [\"PG\", \"KO\", \"PEP\", \"WMT\", \"COST\"],\n",
        "    \"Energy\": [\"XOM\", \"CVX\", \"COP\", \"SLB\", \"PSX\"],\n",
        "    \"Industrials\": [\"HON\", \"UNP\", \"CAT\", \"RTX\", \"LMT\"],\n",
        "    \"Materials\": [\"LIN\", \"APD\", \"NEM\", \"DD\", \"SHW\"],\n",
        "    \"Real Estate\": [\"AMT\", \"PLD\", \"SPG\", \"EQIX\", \"PSA\"],\n",
        "    \"Utilities\": [\"NEE\", \"DUK\", \"SO\", \"D\", \"AEP\"]\n",
        "}\n",
        "\n",
        "# Flatten the list of symbols\n",
        "all_symbols6 = [symbol for sector in top_companies_2020.values() for symbol in sector]\n",
        "\n",
        "# Define the date range\n",
        "start_date = \"2020-05-03\"\n",
        "end_date = \"2020-11-03\"\n",
        "\n",
        "# Download the data and store it in a DataFrame\n",
        "data2020 = yf.download(all_symbols6, start=start_date, end=end_date, group_by='ticker')"
      ],
      "metadata": {
        "colab": {
          "base_uri": "https://localhost:8080/"
        },
        "id": "gq39RbkmYNto",
        "outputId": "c80eb654-2cd1-4e18-e001-a442989c7cd7"
      },
      "execution_count": 45,
      "outputs": [
        {
          "output_type": "stream",
          "name": "stderr",
          "text": [
            "[*********************100%***********************]  54 of 54 completed\n"
          ]
        }
      ]
    },
    {
      "cell_type": "code",
      "source": [
        "# Combine the data into a single DataFrame with ticker as a new column\n",
        "stock_2020 = pd.concat([data2020[symbol].assign(Symbol=symbol) for symbol in all_symbols6], axis=0)\n",
        "\n",
        "# Save to CSV\n",
        "stock_2020.to_csv(\"stock_2020.csv\")"
      ],
      "metadata": {
        "id": "PgES6enbYyWL"
      },
      "execution_count": 46,
      "outputs": []
    },
    {
      "cell_type": "code",
      "source": [
        "print(stock_2020.head())"
      ],
      "metadata": {
        "colab": {
          "base_uri": "https://localhost:8080/"
        },
        "id": "tPwtN-EIv5GD",
        "outputId": "bd179d33-cf2c-46f3-cf45-e3842efdf5bb"
      },
      "execution_count": 56,
      "outputs": [
        {
          "output_type": "stream",
          "name": "stdout",
          "text": [
            "Price                           Open       High        Low      Close  \\\n",
            "Date                                                                    \n",
            "2020-05-04 00:00:00+00:00  72.292503  73.422501  71.580002  73.290001   \n",
            "2020-05-05 00:00:00+00:00  73.764999  75.250000  73.614998  74.389999   \n",
            "2020-05-06 00:00:00+00:00  75.114998  75.809998  74.717499  75.157501   \n",
            "2020-05-07 00:00:00+00:00  75.805000  76.292503  75.492500  75.934998   \n",
            "2020-05-08 00:00:00+00:00  76.410004  77.587502  76.072502  77.532501   \n",
            "\n",
            "Price                      Adj Close     Volume Symbol  \n",
            "Date                                                    \n",
            "2020-05-04 00:00:00+00:00  71.222008  133568000   AAPL  \n",
            "2020-05-05 00:00:00+00:00  72.290977  147751200   AAPL  \n",
            "2020-05-06 00:00:00+00:00  73.036827  142333600   AAPL  \n",
            "2020-05-07 00:00:00+00:00  73.792351  115215200   AAPL  \n",
            "2020-05-08 00:00:00+00:00  75.548752  133838400   AAPL  \n"
          ]
        }
      ]
    },
    {
      "cell_type": "code",
      "source": [
        "top_companies_2024 = {\n",
        "    \"Information Technology\": [\"NVDA\", \"AAPL\", \"MSFT\", \"GOOGL\", \"TSM\"],\n",
        "    \"Health Care\": [\"JNJ\", \"PFE\", \"UNH\", \"MRK\", \"ABBV\"],\n",
        "    \"Financials\": [\"JPM\", \"BAC\", \"WFC\", \"C\", \"GS\"],\n",
        "    \"Consumer Discretionary\": [\"AMZN\", \"HD\", \"MCD\", \"NKE\", \"DIS\"],\n",
        "    \"Communication Services\": [\"GOOGL\", \"META\", \"VZ\", \"T\", \"CMCSA\"],\n",
        "    \"Consumer Staples\": [\"PG\", \"KO\", \"PEP\", \"WMT\", \"COST\"],\n",
        "    \"Energy\": [\"XOM\", \"CVX\", \"COP\", \"SLB\", \"PSX\"],\n",
        "    \"Industrials\": [\"HON\", \"BA\", \"CAT\", \"GE\", \"UPS\"],\n",
        "    \"Materials\": [\"LIN\", \"APD\", \"NEM\", \"DD\", \"SHW\"],\n",
        "    \"Real Estate\": [\"AMT\", \"PLD\", \"SPG\", \"EQIX\", \"PSA\"],\n",
        "    \"Utilities\": [\"NEE\", \"DUK\", \"SO\", \"D\", \"AEP\"]\n",
        "}\n",
        "\n",
        "# Flatten the list of symbols\n",
        "all_symbols7 = [symbol for sector in top_companies_2024.values() for symbol in sector]\n",
        "\n",
        "# Define the date range\n",
        "start_date = \"2024-05-05\"\n",
        "end_date = \"2024-11-05\"\n",
        "\n",
        "# Download the data and store it in a DataFrame\n",
        "data2024 = yf.download(all_symbols7, start=start_date, end=end_date, group_by='ticker')"
      ],
      "metadata": {
        "colab": {
          "base_uri": "https://localhost:8080/"
        },
        "id": "MvQSK1QHY-xS",
        "outputId": "cd760dc7-ff26-4d34-b1a6-200f075ff045"
      },
      "execution_count": 52,
      "outputs": [
        {
          "output_type": "stream",
          "name": "stderr",
          "text": [
            "[*********************100%***********************]  54 of 54 completed\n"
          ]
        }
      ]
    },
    {
      "cell_type": "code",
      "source": [
        "# Combine the data into a single DataFrame with ticker as a new column\n",
        "stock_2024 = pd.concat([data2024[symbol].assign(Symbol=symbol) for symbol in all_symbols7], axis=0)\n",
        "\n",
        "# Save to CSV\n",
        "stock_2024.to_csv(\"stock_2024.csv\")"
      ],
      "metadata": {
        "id": "76AQ7HhkZsvk"
      },
      "execution_count": 53,
      "outputs": []
    },
    {
      "cell_type": "code",
      "source": [
        "print(stock_2024.head())"
      ],
      "metadata": {
        "id": "1_FBXYddv7kr",
        "outputId": "64865ee4-23dc-4f80-8f2e-02e0862fab45",
        "colab": {
          "base_uri": "https://localhost:8080/"
        }
      },
      "execution_count": 57,
      "outputs": [
        {
          "output_type": "stream",
          "name": "stdout",
          "text": [
            "Price                           Open       High        Low      Close  \\\n",
            "Date                                                                    \n",
            "2024-05-06 00:00:00+00:00  89.389999  92.220001  89.055000  92.139999   \n",
            "2024-05-07 00:00:00+00:00  91.098000  91.780998  89.011002  90.554001   \n",
            "2024-05-08 00:00:00+00:00  89.483002  91.194000  89.419998  90.412003   \n",
            "2024-05-09 00:00:00+00:00  90.528999  91.071999  88.231003  88.747002   \n",
            "2024-05-10 00:00:00+00:00  90.305000  91.401001  89.226997  89.877998   \n",
            "\n",
            "Price                      Adj Close     Volume Symbol  \n",
            "Date                                                    \n",
            "2024-05-06 00:00:00+00:00  92.124550  376203000   NVDA  \n",
            "2024-05-07 00:00:00+00:00  90.538818  437342000   NVDA  \n",
            "2024-05-08 00:00:00+00:00  90.396843  325721000   NVDA  \n",
            "2024-05-09 00:00:00+00:00  88.732124  378013000   NVDA  \n",
            "2024-05-10 00:00:00+00:00  89.862923  335325000   NVDA  \n"
          ]
        }
      ]
    }
  ]
}
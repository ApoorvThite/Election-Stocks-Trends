{
  "nbformat": 4,
  "nbformat_minor": 0,
  "metadata": {
    "colab": {
      "provenance": []
    },
    "kernelspec": {
      "name": "python3",
      "display_name": "Python 3"
    },
    "language_info": {
      "name": "python"
    }
  },
  "cells": [
    {
      "cell_type": "code",
      "execution_count": 1,
      "metadata": {
        "id": "7lP7SrFLj1Ib"
      },
      "outputs": [],
      "source": [
        "import math\n",
        "import yfinance as yf\n",
        "import pandas_datareader as web\n",
        "import numpy as np\n",
        "import pandas as pd\n",
        "from sklearn.preprocessing import MinMaxScaler\n",
        "import matplotlib.pyplot as plt\n",
        "plt.style.use('fivethirtyeight')"
      ]
    },
    {
      "cell_type": "code",
      "source": [
        "# Top 5 companies in each sector by stock symbol (as of 2000)\n",
        "\n",
        "top_companies_2000 = {\n",
        "    \"Information Technology\": [\"IBM\", \"MSFT\", \"INTC\", \"ORCL\", \"CSCO\"],\n",
        "    \"Health Care\": [\"JNJ\", \"PFE\", \"MRK\", \"ABT\", \"LLY\"],\n",
        "    \"Financials\": [\"JPM\", \"BAC\", \"C\", \"WFC\", \"AXP\"],\n",
        "    \"Consumer Discretionary\": [\"F\", \"NKE\", \"HD\", \"MCD\", \"DIS\"],\n",
        "    \"Communication Services\": [\"T\", \"VZ\", \"BLS\", \"CMCSA\", \"EA\"],\n",
        "    \"Consumer Staples\": [\"PG\", \"KO\", \"PEP\", \"MO\", \"CL\"],\n",
        "    \"Energy\": [\"XOM\", \"CVX\", \"COP\", \"HAL\", \"SLB\"],\n",
        "    \"Industrials\": [\"GE\", \"BA\", \"MMM\", \"HON\", \"CAT\"],\n",
        "    \"Materials\": [\"PPG\", \"DD\", \"AA\", \"IP\", \"NEM\"],\n",
        "    \"Real Estate\": [\"SPG\", \"PSA\", \"EQR\", \"VNO\", \"BXP\"],\n",
        "    \"Utilities\": [\"DUK\", \"SO\", \"EXC\", \"ED\", \"AEP\"]\n",
        "}\n",
        "\n",
        "# Flatten the list of symbols\n",
        "all_symbols = [symbol for sector in top_companies_2000.values() for symbol in sector]\n",
        "\n",
        "# Define the date range\n",
        "start_date = \"2000-11-08\"\n",
        "end_date = \"2001-05-08\"\n",
        "\n",
        "# Download the data and store it in a DataFrame\n",
        "data = yf.download(all_symbols, start=start_date, end=end_date, group_by='ticker')"
      ],
      "metadata": {
        "colab": {
          "base_uri": "https://localhost:8080/"
        },
        "id": "VJ2O3WOWkW1L",
        "outputId": "60ffb185-e5e3-48af-8d14-4e8b4cbe8fdb"
      },
      "execution_count": 3,
      "outputs": [
        {
          "output_type": "stream",
          "name": "stderr",
          "text": [
            "[*********************100%***********************]  55 of 55 completed\n"
          ]
        }
      ]
    },
    {
      "cell_type": "code",
      "source": [
        "stock_2000 = pd.concat([data[symbol].assign(Symbol=symbol) for symbol in all_symbols], axis=0)\n",
        "stock_2000.to_csv('stock_2000_post.csv')"
      ],
      "metadata": {
        "id": "au13ejKyl496"
      },
      "execution_count": 4,
      "outputs": []
    },
    {
      "cell_type": "code",
      "source": [
        "print(stock_2000.head())"
      ],
      "metadata": {
        "colab": {
          "base_uri": "https://localhost:8080/"
        },
        "id": "_Pg27zDlmGS1",
        "outputId": "f7a83229-1f82-4373-900b-f9ac45ce3cf5"
      },
      "execution_count": 5,
      "outputs": [
        {
          "output_type": "stream",
          "name": "stdout",
          "text": [
            "Price                           Open       High        Low      Close  \\\n",
            "Date                                                                    \n",
            "2000-11-08 00:00:00+00:00  99.067879  99.187378  94.885277  95.602295   \n",
            "2000-11-09 00:00:00+00:00  92.495216  95.602295  91.479446  95.064529   \n",
            "2000-11-10 00:00:00+00:00  93.690247  94.048759  88.910133  88.910133   \n",
            "2000-11-13 00:00:00+00:00  87.774857  95.064529  87.595604  93.152489   \n",
            "2000-11-14 00:00:00+00:00  94.885277  95.482796  94.168259  95.124283   \n",
            "\n",
            "Price                      Adj Close   Volume Symbol  \n",
            "Date                                                  \n",
            "2000-11-08 00:00:00+00:00  51.411846  7312377    IBM  \n",
            "2000-11-09 00:00:00+00:00  51.122631  9464103    IBM  \n",
            "2000-11-10 00:00:00+00:00  47.813015  7121063    IBM  \n",
            "2000-11-13 00:00:00+00:00  50.094398  9084405    IBM  \n",
            "2000-11-14 00:00:00+00:00  51.154781  5387841    IBM  \n"
          ]
        }
      ]
    },
    {
      "cell_type": "code",
      "source": [
        "top_companies_2004 = {\n",
        "    \"Information Technology\": [\"MSFT\", \"INTC\", \"CSCO\", \"ORCL\", \"IBM\"],\n",
        "    \"Health Care\": [\"JNJ\", \"PFE\", \"MRK\", \"ABT\", \"LLY\"],\n",
        "    \"Financials\": [\"JPM\", \"BAC\", \"C\", \"WFC\", \"AXP\"],\n",
        "    \"Consumer Discretionary\": [\"F\", \"NKE\", \"HD\", \"MCD\", \"DIS\"],\n",
        "    \"Communication Services\": [\"T\", \"VZ\", \"CMCSA\", \"BLS\", \"EA\"],\n",
        "    \"Consumer Staples\": [\"PG\", \"KO\", \"PEP\", \"MO\", \"CL\"],\n",
        "    \"Energy\": [\"XOM\", \"CVX\", \"COP\", \"HAL\", \"SLB\"],\n",
        "    \"Industrials\": [\"GE\", \"BA\", \"MMM\", \"CAT\", \"HON\"],\n",
        "    \"Materials\": [\"PPG\", \"DD\", \"AA\", \"IP\", \"NEM\"],\n",
        "    \"Real Estate\": [\"SPG\", \"EQR\", \"AMT\", \"VNO\", \"BXP\"],\n",
        "    \"Utilities\": [\"DUK\", \"SO\", \"EXC\", \"D\", \"AEP\"]\n",
        "}\n",
        "\n",
        "# Flatten the list of symbols\n",
        "all_symbols2 = [symbol for sector in top_companies_2004.values() for symbol in sector]\n",
        "\n",
        "# Define the date range\n",
        "start_date = \"2004-11-03\"\n",
        "end_date = \"2005-05-03\"\n",
        "\n",
        "# Download the data and store it in a DataFrame\n",
        "data2004 = yf.download(all_symbols2, start=start_date, end=end_date, group_by='ticker')"
      ],
      "metadata": {
        "colab": {
          "base_uri": "https://localhost:8080/"
        },
        "id": "PtlaNxy1mJ5K",
        "outputId": "9f9eb0c2-c3b8-4dd6-cde6-751061a92547"
      },
      "execution_count": 6,
      "outputs": [
        {
          "output_type": "stream",
          "name": "stderr",
          "text": [
            "[*********************100%***********************]  55 of 55 completed\n"
          ]
        }
      ]
    },
    {
      "cell_type": "code",
      "source": [
        "# Combine the data into a single DataFrame with ticker as a new column\n",
        "stock_2004 = pd.concat([data2004[symbol].assign(Symbol=symbol) for symbol in all_symbols2], axis=0)\n",
        "\n",
        "# Save to CSV\n",
        "stock_2004.to_csv(\"stock_2004_post.csv\")"
      ],
      "metadata": {
        "id": "49vBozQ-mSE5"
      },
      "execution_count": 7,
      "outputs": []
    },
    {
      "cell_type": "code",
      "source": [
        "print(stock_2004.head())"
      ],
      "metadata": {
        "colab": {
          "base_uri": "https://localhost:8080/"
        },
        "id": "cMQM2FyzmYaz",
        "outputId": "4e6ad19a-35ed-44c9-82e6-58eafd97056c"
      },
      "execution_count": 8,
      "outputs": [
        {
          "output_type": "stream",
          "name": "stdout",
          "text": [
            "Price                           Open       High        Low      Close  \\\n",
            "Date                                                                    \n",
            "2004-11-03 00:00:00+00:00  28.650000  28.650000  28.309999  28.469999   \n",
            "2004-11-04 00:00:00+00:00  28.379999  29.000000  28.379999  29.000000   \n",
            "2004-11-05 00:00:00+00:00  29.209999  29.360001  29.030001  29.309999   \n",
            "2004-11-08 00:00:00+00:00  29.180000  29.480000  29.129999  29.280001   \n",
            "2004-11-09 00:00:00+00:00  29.430000  29.889999  29.350000  29.770000   \n",
            "\n",
            "Price                      Adj Close     Volume Symbol  \n",
            "Date                                                    \n",
            "2004-11-03 00:00:00+00:00  17.761913   79666700   MSFT  \n",
            "2004-11-04 00:00:00+00:00  18.092569   87867700   MSFT  \n",
            "2004-11-05 00:00:00+00:00  18.285973   95337700   MSFT  \n",
            "2004-11-08 00:00:00+00:00  18.267254  112802100   MSFT  \n",
            "2004-11-09 00:00:00+00:00  18.572966  100401000   MSFT  \n"
          ]
        }
      ]
    },
    {
      "cell_type": "code",
      "source": [
        "top_companies_2008 = {\n",
        "    \"Information Technology\": [\"MSFT\", \"INTC\", \"CSCO\", \"ORCL\", \"IBM\"],\n",
        "    \"Health Care\": [\"JNJ\", \"PFE\", \"MRK\", \"ABT\", \"LLY\"],\n",
        "    \"Financials\": [\"JPM\", \"BAC\", \"C\", \"WFC\", \"AXP\"],\n",
        "    \"Consumer Discretionary\": [\"F\", \"NKE\", \"HD\", \"MCD\", \"DIS\"],\n",
        "    \"Communication Services\": [\"T\", \"VZ\", \"CMCSA\", \"BLS\", \"EA\"],\n",
        "    \"Consumer Staples\": [\"PG\", \"KO\", \"PEP\", \"MO\", \"CL\"],\n",
        "    \"Energy\": [\"XOM\", \"CVX\", \"COP\", \"HAL\", \"SLB\"],\n",
        "    \"Industrials\": [\"GE\", \"BA\", \"MMM\", \"CAT\", \"HON\"],\n",
        "    \"Materials\": [\"PPG\", \"DD\", \"AA\", \"IP\", \"NEM\"],\n",
        "    \"Real Estate\": [\"SPG\", \"EQR\", \"AMT\", \"VNO\", \"BXP\"],\n",
        "    \"Utilities\": [\"DUK\", \"SO\", \"EXC\", \"D\", \"AEP\"]\n",
        "}\n",
        "\n",
        "# Flatten the list of symbols\n",
        "all_symbols3 = [symbol for sector in top_companies_2008.values() for symbol in sector]\n",
        "\n",
        "# Define the date range\n",
        "start_date = \"2008-11-05\"\n",
        "end_date = \"2009-05-05\"\n",
        "\n",
        "# Download the data and store it in a DataFrame\n",
        "data2008 = yf.download(all_symbols3, start=start_date, end=end_date, group_by='ticker')"
      ],
      "metadata": {
        "colab": {
          "base_uri": "https://localhost:8080/"
        },
        "id": "iaZ6UzU-maaX",
        "outputId": "d79e5838-5a64-4001-e879-e78dbe258216"
      },
      "execution_count": 9,
      "outputs": [
        {
          "output_type": "stream",
          "name": "stderr",
          "text": [
            "[*********************100%***********************]  55 of 55 completed\n"
          ]
        }
      ]
    },
    {
      "cell_type": "code",
      "source": [
        "# Combine the data into a single DataFrame with ticker as a new column\n",
        "stock_2008 = pd.concat([data2008[symbol].assign(Symbol=symbol) for symbol in all_symbols3], axis=0)\n",
        "\n",
        "# Save to CSV\n",
        "stock_2008.to_csv(\"stock_2008_post.csv\")"
      ],
      "metadata": {
        "id": "Dx_SGT64mjuI"
      },
      "execution_count": 10,
      "outputs": []
    },
    {
      "cell_type": "code",
      "source": [
        "print(stock_2008.head())"
      ],
      "metadata": {
        "colab": {
          "base_uri": "https://localhost:8080/"
        },
        "id": "wqlfr9Ggmq48",
        "outputId": "75bb099e-6900-4844-f288-76b73275b6a1"
      },
      "execution_count": 11,
      "outputs": [
        {
          "output_type": "stream",
          "name": "stdout",
          "text": [
            "Price                           Open       High        Low      Close  \\\n",
            "Date                                                                    \n",
            "2008-11-05 00:00:00+00:00  23.330000  23.340000  22.049999  22.080000   \n",
            "2008-11-06 00:00:00+00:00  21.870001  22.080000  20.860001  20.879999   \n",
            "2008-11-07 00:00:00+00:00  21.320000  21.540001  21.000000  21.500000   \n",
            "2008-11-10 00:00:00+00:00  21.850000  21.969999  21.190001  21.299999   \n",
            "2008-11-11 00:00:00+00:00  21.290001  21.299999  20.790001  21.200001   \n",
            "\n",
            "Price                      Adj Close    Volume Symbol  \n",
            "Date                                                   \n",
            "2008-11-05 00:00:00+00:00  16.165001  81179700   MSFT  \n",
            "2008-11-06 00:00:00+00:00  15.286479  95509700   MSFT  \n",
            "2008-11-07 00:00:00+00:00  15.740380  71256300   MSFT  \n",
            "2008-11-10 00:00:00+00:00  15.593959  67106800   MSFT  \n",
            "2008-11-11 00:00:00+00:00  15.520749  78014500   MSFT  \n"
          ]
        }
      ]
    },
    {
      "cell_type": "code",
      "source": [
        "top_companies_2012 = {\n",
        "    \"Information Technology\": [\"AAPL\", \"MSFT\", \"IBM\", \"GOOGL\", \"INTC\"],\n",
        "    \"Health Care\": [\"JNJ\", \"PFE\", \"MRK\", \"ABT\", \"UNH\"],\n",
        "    \"Financials\": [\"JPM\", \"BAC\", \"C\", \"WFC\", \"GS\"],\n",
        "    \"Consumer Discretionary\": [\"AMZN\", \"HD\", \"MCD\", \"DIS\", \"NKE\"],\n",
        "    \"Communication Services\": [\"T\", \"VZ\", \"GOOG\", \"CMCSA\", \"TWX\"],\n",
        "    \"Consumer Staples\": [\"PG\", \"KO\", \"PEP\", \"MO\", \"WMT\"],\n",
        "    \"Energy\": [\"XOM\", \"CVX\", \"COP\", \"SLB\", \"HAL\"],\n",
        "    \"Industrials\": [\"GE\", \"BA\", \"MMM\", \"CAT\", \"HON\"],\n",
        "    \"Materials\": [\"PPG\", \"DD\", \"FCX\", \"IP\", \"NEM\"],\n",
        "    \"Real Estate\": [\"SPG\", \"PLD\", \"EQR\", \"AVB\", \"VNO\"],\n",
        "    \"Utilities\": [\"DUK\", \"SO\", \"EXC\", \"D\", \"AEP\"]\n",
        "}\n",
        "\n",
        "# Flatten the list of symbols\n",
        "all_symbols4 = [symbol for sector in top_companies_2012.values() for symbol in sector]\n",
        "\n",
        "# Define the date range\n",
        "start_date = \"2012-11-07\"\n",
        "end_date = \"2013-05-07\"\n",
        "\n",
        "# Download the data and store it in a DataFrame\n",
        "data2012 = yf.download(all_symbols4, start=start_date, end=end_date, group_by='ticker')"
      ],
      "metadata": {
        "colab": {
          "base_uri": "https://localhost:8080/"
        },
        "id": "ZmTwTvgmmvtP",
        "outputId": "a718536f-4252-4350-c1be-3a20f0eb07b6"
      },
      "execution_count": 12,
      "outputs": [
        {
          "output_type": "stream",
          "name": "stderr",
          "text": [
            "[*********************100%***********************]  55 of 55 completed\n"
          ]
        }
      ]
    },
    {
      "cell_type": "code",
      "source": [
        "# Combine the data into a single DataFrame with ticker as a new column\n",
        "stock_2012 = pd.concat([data2012[symbol].assign(Symbol=symbol) for symbol in all_symbols4], axis=0)\n",
        "\n",
        "# Save to CSV\n",
        "stock_2012.to_csv(\"stock_2012_post.csv\")"
      ],
      "metadata": {
        "id": "csUxjp8tnHvk"
      },
      "execution_count": 13,
      "outputs": []
    },
    {
      "cell_type": "code",
      "source": [
        "print(stock_2012.head())"
      ],
      "metadata": {
        "colab": {
          "base_uri": "https://localhost:8080/"
        },
        "id": "FW5BdYpOnLhk",
        "outputId": "cbb7a1af-4a31-4cb0-bb0c-0bf48dfbfd58"
      },
      "execution_count": 14,
      "outputs": [
        {
          "output_type": "stream",
          "name": "stdout",
          "text": [
            "Price                           Open       High        Low      Close  \\\n",
            "Date                                                                    \n",
            "2012-11-07 00:00:00+00:00  20.494286  20.519285  19.848213  19.928572   \n",
            "2012-11-08 00:00:00+00:00  20.022499  20.079643  19.117500  19.205357   \n",
            "2012-11-09 00:00:00+00:00  19.300714  19.817142  19.061428  19.537857   \n",
            "2012-11-12 00:00:00+00:00  19.791071  19.803572  19.237499  19.386786   \n",
            "2012-11-13 00:00:00+00:00  19.246786  19.660000  19.155714  19.389286   \n",
            "\n",
            "Price                      Adj Close      Volume Symbol  \n",
            "Date                                                     \n",
            "2012-11-07 00:00:00+00:00  16.959976   793648800   AAPL  \n",
            "2012-11-08 00:00:00+00:00  16.344500  1056146000   AAPL  \n",
            "2012-11-09 00:00:00+00:00  16.627468   929913600   AAPL  \n",
            "2012-11-12 00:00:00+00:00  16.498903   515802000   AAPL  \n",
            "2012-11-13 00:00:00+00:00  16.501024   532949200   AAPL  \n"
          ]
        }
      ]
    },
    {
      "cell_type": "code",
      "source": [
        "top_companies_2016 = {\n",
        "    \"Information Technology\": [\"AAPL\", \"MSFT\", \"GOOGL\", \"INTC\", \"CSCO\"],\n",
        "    \"Health Care\": [\"JNJ\", \"PFE\", \"MRK\", \"UNH\", \"ABBV\"],\n",
        "    \"Financials\": [\"JPM\", \"BAC\", \"WFC\", \"C\", \"GS\"],\n",
        "    \"Consumer Discretionary\": [\"AMZN\", \"HD\", \"DIS\", \"MCD\", \"NKE\"],\n",
        "    \"Communication Services\": [\"T\", \"VZ\", \"GOOGL\", \"CMCSA\", \"TWX\"],\n",
        "    \"Consumer Staples\": [\"PG\", \"KO\", \"PEP\", \"WMT\", \"MO\"],\n",
        "    \"Energy\": [\"XOM\", \"CVX\", \"SLB\", \"COP\", \"PSX\"],\n",
        "    \"Industrials\": [\"GE\", \"BA\", \"MMM\", \"CAT\", \"HON\"],\n",
        "    \"Materials\": [\"PPG\", \"DD\", \"FCX\", \"IP\", \"APD\"],\n",
        "    \"Real Estate\": [\"SPG\", \"PLD\", \"EQR\", \"AVB\", \"PSA\"],\n",
        "    \"Utilities\": [\"DUK\", \"SO\", \"EXC\", \"D\", \"NEE\"]\n",
        "}\n",
        "\n",
        "# Flatten the list of symbols\n",
        "all_symbols5 = [symbol for sector in top_companies_2016.values() for symbol in sector]\n",
        "\n",
        "# Define the date range\n",
        "start_date = \"2016-11-09\"\n",
        "end_date = \"2017-05-09\"\n",
        "\n",
        "# Download the data and store it in a DataFrame\n",
        "data2016 = yf.download(all_symbols5, start=start_date, end=end_date, group_by='ticker')"
      ],
      "metadata": {
        "colab": {
          "base_uri": "https://localhost:8080/"
        },
        "id": "-GgEZsuZnPdI",
        "outputId": "268f78f6-4729-49e7-c5cc-4bce3a690b3c"
      },
      "execution_count": 15,
      "outputs": [
        {
          "output_type": "stream",
          "name": "stderr",
          "text": [
            "[*********************100%***********************]  54 of 54 completed\n"
          ]
        }
      ]
    },
    {
      "cell_type": "code",
      "source": [
        "# Combine the data into a single DataFrame with ticker as a new column\n",
        "stock_2016 = pd.concat([data2016[symbol].assign(Symbol=symbol) for symbol in all_symbols5], axis=0)\n",
        "\n",
        "# Save to CSV\n",
        "stock_2016.to_csv(\"stock_2016_post.csv\")"
      ],
      "metadata": {
        "id": "Si3hHkPjnXAD"
      },
      "execution_count": 16,
      "outputs": []
    },
    {
      "cell_type": "code",
      "source": [
        "print(stock_2016.head())"
      ],
      "metadata": {
        "colab": {
          "base_uri": "https://localhost:8080/"
        },
        "id": "InGDRpsHnefC",
        "outputId": "7ada5696-54ef-4347-9211-e5ad1a21f800"
      },
      "execution_count": 17,
      "outputs": [
        {
          "output_type": "stream",
          "name": "stdout",
          "text": [
            "Price                           Open       High        Low      Close  \\\n",
            "Date                                                                    \n",
            "2016-11-09 00:00:00+00:00  27.469999  27.830000  27.012501  27.719999   \n",
            "2016-11-10 00:00:00+00:00  27.772499  27.772499  26.457500  26.947500   \n",
            "2016-11-11 00:00:00+00:00  26.780001  27.217501  26.637501  27.107500   \n",
            "2016-11-14 00:00:00+00:00  26.927500  26.952499  26.020000  26.427500   \n",
            "2016-11-15 00:00:00+00:00  26.642500  26.920000  26.540001  26.777500   \n",
            "\n",
            "Price                      Adj Close     Volume Symbol  \n",
            "Date                                                    \n",
            "2016-11-09 00:00:00+00:00  25.671804  236705600   AAPL  \n",
            "2016-11-10 00:00:00+00:00  24.956390  228538000   AAPL  \n",
            "2016-11-11 00:00:00+00:00  25.104570  136575600   AAPL  \n",
            "2016-11-14 00:00:00+00:00  24.474812  204702000   AAPL  \n",
            "2016-11-15 00:00:00+00:00  24.798948  129058000   AAPL  \n"
          ]
        }
      ]
    },
    {
      "cell_type": "code",
      "source": [
        "top_companies_2020 = {\n",
        "    \"Information Technology\": [\"AAPL\", \"MSFT\", \"GOOGL\", \"NVDA\", \"ADBE\"],\n",
        "    \"Health Care\": [\"JNJ\", \"PFE\", \"UNH\", \"ABBV\", \"MRK\"],\n",
        "    \"Financials\": [\"JPM\", \"BAC\", \"WFC\", \"GS\", \"MS\"],\n",
        "    \"Consumer Discretionary\": [\"AMZN\", \"HD\", \"NKE\", \"MCD\", \"LOW\"],\n",
        "    \"Communication Services\": [\"GOOGL\", \"T\", \"VZ\", \"CMCSA\", \"DIS\"],\n",
        "    \"Consumer Staples\": [\"PG\", \"KO\", \"PEP\", \"WMT\", \"COST\"],\n",
        "    \"Energy\": [\"XOM\", \"CVX\", \"COP\", \"SLB\", \"PSX\"],\n",
        "    \"Industrials\": [\"HON\", \"UNP\", \"CAT\", \"RTX\", \"LMT\"],\n",
        "    \"Materials\": [\"LIN\", \"APD\", \"NEM\", \"DD\", \"SHW\"],\n",
        "    \"Real Estate\": [\"AMT\", \"PLD\", \"SPG\", \"EQIX\", \"PSA\"],\n",
        "    \"Utilities\": [\"NEE\", \"DUK\", \"SO\", \"D\", \"AEP\"]\n",
        "}\n",
        "\n",
        "# Flatten the list of symbols\n",
        "all_symbols6 = [symbol for sector in top_companies_2020.values() for symbol in sector]\n",
        "\n",
        "# Define the date range\n",
        "start_date = \"2020-11-04\"\n",
        "end_date = \"2021-05-04\"\n",
        "\n",
        "# Download the data and store it in a DataFrame\n",
        "data2020 = yf.download(all_symbols6, start=start_date, end=end_date, group_by='ticker')"
      ],
      "metadata": {
        "colab": {
          "base_uri": "https://localhost:8080/"
        },
        "id": "E4pHZNgWnh7k",
        "outputId": "c5975c2a-117c-4a5a-9f92-525b3df646f8"
      },
      "execution_count": 18,
      "outputs": [
        {
          "output_type": "stream",
          "name": "stderr",
          "text": [
            "[*********************100%***********************]  54 of 54 completed\n"
          ]
        }
      ]
    },
    {
      "cell_type": "code",
      "source": [
        "# Combine the data into a single DataFrame with ticker as a new column\n",
        "stock_2020 = pd.concat([data2020[symbol].assign(Symbol=symbol) for symbol in all_symbols6], axis=0)\n",
        "\n",
        "# Save to CSV\n",
        "stock_2020.to_csv(\"stock_2020_post.csv\")"
      ],
      "metadata": {
        "id": "Ov1pdq06npIx"
      },
      "execution_count": 19,
      "outputs": []
    },
    {
      "cell_type": "code",
      "source": [
        "print(stock_2020.head())"
      ],
      "metadata": {
        "colab": {
          "base_uri": "https://localhost:8080/"
        },
        "id": "pVc62vqmnuTH",
        "outputId": "48ddd3ac-ed3d-447a-ed33-9dbc1247c4f8"
      },
      "execution_count": 20,
      "outputs": [
        {
          "output_type": "stream",
          "name": "stdout",
          "text": [
            "Price                            Open        High         Low       Close  \\\n",
            "Date                                                                        \n",
            "2020-11-04 00:00:00+00:00  114.139999  115.589996  112.349998  114.949997   \n",
            "2020-11-05 00:00:00+00:00  117.949997  119.620003  116.870003  119.029999   \n",
            "2020-11-06 00:00:00+00:00  118.320000  119.199997  116.129997  118.690002   \n",
            "2020-11-09 00:00:00+00:00  120.500000  121.989998  116.050003  116.320000   \n",
            "2020-11-10 00:00:00+00:00  115.550003  117.589996  114.129997  115.970001   \n",
            "\n",
            "Price                       Adj Close     Volume Symbol  \n",
            "Date                                                     \n",
            "2020-11-04 00:00:00+00:00  112.210831  138235500   AAPL  \n",
            "2020-11-05 00:00:00+00:00  116.193596  126387100   AAPL  \n",
            "2020-11-06 00:00:00+00:00  116.061615  114457900   AAPL  \n",
            "2020-11-09 00:00:00+00:00  113.744102  154515300   AAPL  \n",
            "2020-11-10 00:00:00+00:00  113.401848  138023400   AAPL  \n"
          ]
        }
      ]
    },
    {
      "cell_type": "code",
      "source": [
        "# Post data for 2024 is expected"
      ],
      "metadata": {
        "id": "cunnj9G-nw9o"
      },
      "execution_count": null,
      "outputs": []
    }
  ]
}